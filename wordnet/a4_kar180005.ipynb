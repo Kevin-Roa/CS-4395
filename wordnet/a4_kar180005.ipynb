{
 "cells": [
  {
   "cell_type": "markdown",
   "metadata": {},
   "source": [
    "(1)"
   ]
  },
  {
   "cell_type": "code",
   "execution_count": 138,
   "metadata": {},
   "outputs": [],
   "source": [
    "import nltk\n",
    "from nltk.corpus import wordnet as wn\n",
    "from nltk.wsd import lesk\n",
    "from nltk.corpus import sentiwordnet as swn\n",
    "from nltk.book import text4\n"
   ]
  },
  {
   "cell_type": "markdown",
   "metadata": {},
   "source": [
    "(2)\n",
    "Get the synsets of 'hand'"
   ]
  },
  {
   "cell_type": "code",
   "execution_count": 78,
   "metadata": {},
   "outputs": [
    {
     "name": "stdout",
     "output_type": "stream",
     "text": [
      "['hand.n.01', 'hired_hand.n.01', 'handwriting.n.01', 'hand.n.04', 'hand.n.05', 'hand.n.06', 'hand.n.07', 'hand.n.08', 'hand.n.09', 'hand.n.10', 'bridge_player.n.01', 'hand.n.12', 'hand.n.13', 'hand.n.14', 'pass.v.05', 'hand.v.02']\n"
     ]
    }
   ],
   "source": [
    "synsets = wn.synsets('hand')\n",
    "print([l.name() for l in synsets])"
   ]
  },
  {
   "cell_type": "markdown",
   "metadata": {},
   "source": [
    "(3)\n",
    "Get the definition, usage, and lemmas of the 'hand.n.01' synset.\n",
    "Get the hierarchy of synsets for 'hand.n.01'.\n",
    "\n",
    "The word 'hand' has quite a few synsets. I selected 'hand.n.01' because I wanted the physical body part. Hand is categorized 8 layers down in the hierarchical structure of nouns as a hyponym of 'extremity.n.05'. The biggest thing to note about the noun organizational hierarchy is that the top is always 'entity.n.01'. An entity is the highest overarching form for all nouns. "
   ]
  },
  {
   "cell_type": "code",
   "execution_count": 165,
   "metadata": {},
   "outputs": [
    {
     "name": "stdout",
     "output_type": "stream",
     "text": [
      "Definition:  the (prehensile) extremity of the superior limb\n",
      "Examples:    ['he had the hands of a surgeon', 'he extended his mitt']\n",
      "Lemmas:      ['hand', 'manus', 'mitt', 'paw']\n",
      "Hierarchy:   ['extremity.n.05', 'external_body_part.n.01', 'body_part.n.01', 'part.n.03', 'thing.n.12', 'physical_entity.n.01', 'entity.n.01']\n"
     ]
    }
   ],
   "source": [
    "print('Definition: ', synsets[0].definition())\n",
    "print('Examples:   ', synsets[0].examples())\n",
    "print('Lemmas:     ', [l.name() for l in synsets[0].lemmas()])\n",
    "print('Hierarchy:  ', [l.name() for l in synsets[0].closure(lambda s:s.hypernyms())])"
   ]
  },
  {
   "cell_type": "markdown",
   "metadata": {},
   "source": [
    "(4)\n",
    "Get the Hypernyms, Hyponyms, Meronyms, Holonyms, and Antonyms of 'hand.n.01'."
   ]
  },
  {
   "cell_type": "code",
   "execution_count": 75,
   "metadata": {},
   "outputs": [
    {
     "name": "stdout",
     "output_type": "stream",
     "text": [
      "Hypernyms:   ['extremity.n.05']\n",
      "Hyponyms:    ['fist.n.01', 'hooks.n.01', 'left.n.03', 'right.n.05']\n",
      "Meronyms:    ['ball.n.10', 'digital_arteries.n.01', 'finger.n.01', 'intercapitular_vein.n.01', 'metacarpal_artery.n.01', 'metacarpal_vein.n.01', 'metacarpus.n.01', 'palm.n.01']\n",
      "Holonyms:    ['arm.n.01', 'homo.n.02']\n",
      "Antonyms:    []\n"
     ]
    }
   ],
   "source": [
    "print('Hypernyms:  ', [l.name() for l in synsets[0].hypernyms()])\n",
    "print('Hyponyms:   ', [l.name() for l in synsets[0].hyponyms()])\n",
    "print('Meronyms:   ', [l.name() for l in synsets[0].part_meronyms()])\n",
    "print('Holonyms:   ', [l.name() for l in synsets[0].part_holonyms()])\n",
    "print('Antonyms:   ', [l.name() for l in synsets[0].lemmas()[0].antonyms()])"
   ]
  },
  {
   "cell_type": "markdown",
   "metadata": {},
   "source": [
    "(5) Get the synsets of 'cry'"
   ]
  },
  {
   "cell_type": "code",
   "execution_count": 153,
   "metadata": {},
   "outputs": [
    {
     "name": "stdout",
     "output_type": "stream",
     "text": [
      "[Synset('shout.v.02'), Synset('cry.v.02'), Synset('exclaim.v.01'), Synset('cry.v.04'), Synset('cry.v.05'), Synset('cry.v.06'), Synset('cry.v.07')]\n"
     ]
    }
   ],
   "source": [
    "synsets2 = wn.synsets('cry', pos=wn.VERB)\n",
    "print(synsets2)"
   ]
  },
  {
   "cell_type": "markdown",
   "metadata": {},
   "source": [
    "(6)\n",
    "Get the definition, usage, and lemmas of the 'cry.v.02' synset.\n",
    "Get the hierarchy of synsets for 'cry.v.02'.\n",
    "\n",
    "The word 'cry' has fewer synsets compared to 'hand'. I selected 'cry.v.02' because it matched the definition I wanted better (tears). 'cry.v.02' actually has no hierarchy above it; it is a top level synset. The biggest thing to note about the verb organizational hierarchy is that there is no specific top level synset. Unlike nouns which end with 'entity.n.01', the ending for a verb hierarchy is unique. "
   ]
  },
  {
   "cell_type": "code",
   "execution_count": 167,
   "metadata": {},
   "outputs": [
    {
     "name": "stdout",
     "output_type": "stream",
     "text": [
      "Definition:  shed tears because of sadness, rage, or pain\n",
      "Examples:    ['She cried bitterly when she heard the news of his death', 'The girl in the wheelchair wept with frustration when she could not get up the stairs']\n",
      "Lemmas:      ['cry', 'weep']\n",
      "Hierarchy:   ['express_emotion.v.01']\n"
     ]
    }
   ],
   "source": [
    "print('Definition: ', synsets2[1].definition())\n",
    "print('Examples:   ', synsets2[1].examples())\n",
    "print('Lemmas:     ', [l.name() for l in synsets2[1].lemmas()])\n",
    "print('Hierarchy:  ', [l.name() for l in synsets2[1].closure(lambda s:s.hypernyms())])"
   ]
  },
  {
   "cell_type": "markdown",
   "metadata": {},
   "source": [
    "(7) Use morphy to test various different forms of 'cry'"
   ]
  },
  {
   "cell_type": "code",
   "execution_count": 80,
   "metadata": {},
   "outputs": [
    {
     "name": "stdout",
     "output_type": "stream",
     "text": [
      "cry\n",
      "cry\n",
      "cry\n",
      "cry\n",
      "cry\n"
     ]
    }
   ],
   "source": [
    "print(wn.morphy('cry', wn.VERB))\n",
    "print(wn.morphy('cried', wn.VERB))\n",
    "print(wn.morphy('cries', wn.VERB))\n",
    "print(wn.morphy('cries', wn.NOUN))\n",
    "print(wn.morphy('crying', wn.VERB))"
   ]
  },
  {
   "cell_type": "markdown",
   "metadata": {},
   "source": [
    "(8) Compare the similarity of the words 'banana' and 'apple'.\n",
    "\n",
    "The path similarity uses the hierarchical path of the synsets to calculate how similar the words are. It tends to not be very accurate. \n",
    "\n",
    "The Wu-Palmer similarity looks at common ancestor words to calculate how similar the given words are.\n",
    "\n",
    "The Lesk algorithm is given the definition of 'banana.n.01' and attempts to find the closest synset of 'apple' given the context. In this case, it actually said that 'apple.n.02' was closest to 'banana.n.01'. After looking at the definitions of both, the similarities are evident. The biggest difference between 'apple.n.01' and 'apple.n.02' is that 'apple.n.02' describes the tree and environment of apples instead of the fruit itself. 'banana.n.01' is closer to 'apple.n.02' because 'banana.n.01' also describes the tree/environment. "
   ]
  },
  {
   "cell_type": "code",
   "execution_count": 101,
   "metadata": {},
   "outputs": [
    {
     "name": "stdout",
     "output_type": "stream",
     "text": [
      "Synset('banana.n.01') any of several tropical and subtropical treelike herbs of the genus Musa having a terminal crown of large entire leaves and usually bearing hanging clusters of elongated fruits\n",
      "Synset('apple.n.01') fruit with red or yellow or green skin and sweet to tart crisp whitish flesh\n",
      "\n",
      "Path Similarity:        0.07142857142857142\n",
      "Wu-Parlmer Similarity:  0.38095238095238093\n",
      "\n",
      "Lesk Algorythm Result:  Synset('apple.n.02')\n",
      "Synset('apple.n.02') native Eurasian tree widely cultivated in many varieties for its firm rounded edible fruits\n"
     ]
    }
   ],
   "source": [
    "word1 = 'banana'\n",
    "word2 = 'apple'\n",
    "\n",
    "word1Syn = wn.synsets(word1)[0]\n",
    "print(word1Syn, word1Syn.definition())\n",
    "word2Syn = wn.synsets(word2)[0]\n",
    "print(word2Syn, word2Syn.definition())\n",
    "\n",
    "print('\\nPath Similarity:       ', wn.path_similarity(word1Syn, word2Syn))\n",
    "print('Wu-Parlmer Similarity: ', word1Syn.wup_similarity(word2Syn))\n",
    "\n",
    "# Use the definition for word1 to give context to see which synset of word2 is most similar\n",
    "leskResult = lesk(word1Syn.definition(), word2)\n",
    "print('\\nLesk Algorythm Result: ', leskResult)\n",
    "print(leskResult, leskResult.definition())\n"
   ]
  },
  {
   "cell_type": "markdown",
   "metadata": {},
   "source": [
    "(9)\n",
    "SentiWordNet is a lexical resource that assigns sentiment scores for a given synset. The scores are split into 3 categories: (Positivity, Negativity, Objectivity) and their values may range from 0 to 1. (Pos + Neg = 1). To use it, you must input a synset to the function senti_synset() and it will return an object with the positive, negative, and objectivity scores. \n",
    "\n",
    "Below are various examples of emotionally charged words and their sentiment scores. 'Beautiful' is mostly positive, 'Ugly' is somewhat negative, 'Lustful' is apparently equally positive and negative (neutral?), and resentful is very negative. \n",
    "\n",
    "This technology can be vary useful for trying to decipher the opinion of a piece of text. Here are some links to papers written about its utility on opinion mining: \n",
    "\n",
    "https://github.com/aesuli/SentiWordNet/blob/master/papers/LREC06.pdf\n",
    "\n",
    "https://github.com/aesuli/SentiWordNet/blob/master/papers/LREC10.pdf\n"
   ]
  },
  {
   "cell_type": "code",
   "execution_count": 137,
   "metadata": {},
   "outputs": [
    {
     "name": "stdout",
     "output_type": "stream",
     "text": [
      "Synsets for beautiful:\n",
      "   [('beautiful.a.01', 'delighting the senses or exciting intellectual or emotional admiration'), ('beautiful.s.02', '(of weather) highly enjoyable')]\n",
      "Selected:  beautiful.a.01\n",
      "  Positive: 0.75, Negative: 0.0, Objective: 0.25\n",
      "\n",
      "Synsets for ugly:\n",
      "   [('ugly.a.01', 'displeasing to the senses'), ('surly.s.01', 'inclined to anger or bad feelings with overtones of menace'), ('despicable.s.01', 'morally reprehensible'), ('atrocious.s.03', 'provoking horror; ; ; ; - Winston Churchill')]\n",
      "Selected:  ugly.a.01\n",
      "  Positive: 0.0, Negative: 0.375, Objective: 0.625\n",
      "\n",
      "Synsets for lustful:\n",
      "   [('lubricious.s.02', 'characterized by lust'), ('lascivious.s.01', 'driven by lust; preoccupied with or exhibiting lustful desires'), ('lustful.s.03', 'vigorously passionate')]\n",
      "Selected:  lascivious.s.01\n",
      "  Positive: 0.5, Negative: 0.5, Objective: 0.0\n",
      "\n",
      "Synsets for resentful:\n",
      "   [('resentful.a.01', 'full of or marked by resentment or indignant ill will')]\n",
      "Selected:  resentful.a.01\n",
      "  Positive: 0.0, Negative: 0.875, Objective: 0.125\n",
      "\n"
     ]
    }
   ],
   "source": [
    "def getSynsets(word):\n",
    "  print('Synsets for', word + ':')\n",
    "  syns = wn.synsets(word)\n",
    "  print('  ', [(l.name(), l.definition()) for l in syns])\n",
    "  return syns\n",
    "\n",
    "def calcSentiment(syn):\n",
    "  print('Selected: ', syn.name())\n",
    "  senti = swn.senti_synset(syn.name())\n",
    "  print(f'  Positive: {senti.pos_score()}, Negative: {senti.neg_score()}, Objective: {senti.obj_score()}\\n')\n",
    "\n",
    "syns = getSynsets('beautiful')\n",
    "calcSentiment(syns[0])\n",
    "\n",
    "syns = getSynsets('ugly')\n",
    "calcSentiment(syns[0])\n",
    "\n",
    "syns = getSynsets('lustful')\n",
    "calcSentiment(syns[1])\n",
    "\n",
    "syns = getSynsets('resentful')\n",
    "calcSentiment(syns[0])\n"
   ]
  },
  {
   "cell_type": "markdown",
   "metadata": {},
   "source": [
    "(10)\n",
    "A collocation is when a set of words frequently occur together within a piece of text. A way to determine whether a set of words is a collocation or not is to attempt to substitute a word for one of its synonyms. If the overall meaning changes then it is a collocation, if not, then it may simply be coincidental or a language quirk. In NLP it is important to understand collocations because they may imbue certain meanings to the text outside of their individual definitions. \n",
    "\n",
    "A way to determine if a collocation is real or coincidental is through the point wise mutual information formula. The formula is simply the probability of the collocation divided by the product of the probability of the individual words. A score of 0 means the words are independent of each other. A positive score means they are likely a collocation while a negative score means it is unlikely. \n",
    "\n",
    "The example below uses the Inaugural Address Corpus. The words 'fellow citizens' got a score of 8.06 which means it is likely to be a collocation."
   ]
  },
  {
   "cell_type": "code",
   "execution_count": 177,
   "metadata": {},
   "outputs": [
    {
     "name": "stdout",
     "output_type": "stream",
     "text": [
      "Inaugural Address Corpus\n",
      "United States; fellow citizens; years ago; four years; Federal\n",
      "Government; General Government; American people; Vice President; God\n",
      "bless; Chief Justice; one another; fellow Americans; Old World;\n",
      "Almighty God; Fellow citizens; Chief Magistrate; every citizen; Indian\n",
      "tribes; public debt; foreign nations\n",
      "\n",
      "Selected \"fellow citizens\"\n",
      "Mutual Info Score:  8.062981491349493\n"
     ]
    }
   ],
   "source": [
    "import math\n",
    "\n",
    "print(text4.name)\n",
    "text4Colloc = text4.collocations()\n",
    "\n",
    "text = ' '.join([t.lower() for t in text4.tokens])\n",
    "vocabSize = len(set(text4))\n",
    "\n",
    "fc = text.count('fellow citizens') / vocabSize\n",
    "f  = text.count('fellow') / vocabSize\n",
    "c  = text.count('citizens') / vocabSize\n",
    "\n",
    "print('\\nSelected \"fellow citizens\"')\n",
    "print('Mutual Info Score: ', math.log2(fc / (f * c)))"
   ]
  }
 ],
 "metadata": {
  "kernelspec": {
   "display_name": "Python 3.10.7 64-bit",
   "language": "python",
   "name": "python3"
  },
  "language_info": {
   "codemirror_mode": {
    "name": "ipython",
    "version": 3
   },
   "file_extension": ".py",
   "mimetype": "text/x-python",
   "name": "python",
   "nbconvert_exporter": "python",
   "pygments_lexer": "ipython3",
   "version": "3.10.7"
  },
  "orig_nbformat": 4,
  "vscode": {
   "interpreter": {
    "hash": "a7dbb88c84ecda04e2dfa8176cb6708abf8c95c32934f510df16d1a1f4945387"
   }
  }
 },
 "nbformat": 4,
 "nbformat_minor": 2
}

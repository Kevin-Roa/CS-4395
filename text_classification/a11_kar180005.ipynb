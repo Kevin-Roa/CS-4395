{
 "cells": [
  {
   "cell_type": "markdown",
   "metadata": {},
   "source": [
    "#### Import Libraries"
   ]
  },
  {
   "cell_type": "code",
   "execution_count": 583,
   "metadata": {},
   "outputs": [],
   "source": [
    "import pandas as pd\n",
    "import seaborn as sb\n",
    "import numpy as np\n",
    "import tensorflow as tf\n",
    "import re\n",
    "\n",
    "from keras.models import Sequential\n",
    "from keras.layers import Dense, Dropout, Embedding, LSTM, MaxPooling1D, GlobalMaxPooling1D, Conv1D\n",
    "from keras.layers import SimpleRNN\n",
    "from sklearn.model_selection import train_test_split\n",
    "from sklearn.feature_extraction.text import TfidfVectorizer, CountVectorizer\n",
    "from nltk.stem import WordNetLemmatizer\n",
    "from nltk.corpus import stopwords\n",
    "from imblearn.over_sampling import SMOTE\n"
   ]
  },
  {
   "cell_type": "markdown",
   "metadata": {},
   "source": [
    "#### Load the fake news dataset\n",
    "\n",
    "The dataset can be found at: https://www.kaggle.com/datasets/algord/fake-news?resource=download"
   ]
  },
  {
   "cell_type": "code",
   "execution_count": 400,
   "metadata": {},
   "outputs": [
    {
     "data": {
      "text/html": [
       "<div>\n",
       "<style scoped>\n",
       "    .dataframe tbody tr th:only-of-type {\n",
       "        vertical-align: middle;\n",
       "    }\n",
       "\n",
       "    .dataframe tbody tr th {\n",
       "        vertical-align: top;\n",
       "    }\n",
       "\n",
       "    .dataframe thead th {\n",
       "        text-align: right;\n",
       "    }\n",
       "</style>\n",
       "<table border=\"1\" class=\"dataframe\">\n",
       "  <thead>\n",
       "    <tr style=\"text-align: right;\">\n",
       "      <th></th>\n",
       "      <th>v1</th>\n",
       "      <th>v2</th>\n",
       "      <th>Unnamed: 2</th>\n",
       "      <th>Unnamed: 3</th>\n",
       "      <th>Unnamed: 4</th>\n",
       "    </tr>\n",
       "  </thead>\n",
       "  <tbody>\n",
       "    <tr>\n",
       "      <th>0</th>\n",
       "      <td>ham</td>\n",
       "      <td>Go until jurong point, crazy.. Available only ...</td>\n",
       "      <td>NaN</td>\n",
       "      <td>NaN</td>\n",
       "      <td>NaN</td>\n",
       "    </tr>\n",
       "    <tr>\n",
       "      <th>1</th>\n",
       "      <td>ham</td>\n",
       "      <td>Ok lar... Joking wif u oni...</td>\n",
       "      <td>NaN</td>\n",
       "      <td>NaN</td>\n",
       "      <td>NaN</td>\n",
       "    </tr>\n",
       "    <tr>\n",
       "      <th>2</th>\n",
       "      <td>spam</td>\n",
       "      <td>Free entry in 2 a wkly comp to win FA Cup fina...</td>\n",
       "      <td>NaN</td>\n",
       "      <td>NaN</td>\n",
       "      <td>NaN</td>\n",
       "    </tr>\n",
       "    <tr>\n",
       "      <th>3</th>\n",
       "      <td>ham</td>\n",
       "      <td>U dun say so early hor... U c already then say...</td>\n",
       "      <td>NaN</td>\n",
       "      <td>NaN</td>\n",
       "      <td>NaN</td>\n",
       "    </tr>\n",
       "    <tr>\n",
       "      <th>4</th>\n",
       "      <td>ham</td>\n",
       "      <td>Nah I don't think he goes to usf, he lives aro...</td>\n",
       "      <td>NaN</td>\n",
       "      <td>NaN</td>\n",
       "      <td>NaN</td>\n",
       "    </tr>\n",
       "  </tbody>\n",
       "</table>\n",
       "</div>"
      ],
      "text/plain": [
       "     v1                                                 v2 Unnamed: 2  \\\n",
       "0   ham  Go until jurong point, crazy.. Available only ...        NaN   \n",
       "1   ham                      Ok lar... Joking wif u oni...        NaN   \n",
       "2  spam  Free entry in 2 a wkly comp to win FA Cup fina...        NaN   \n",
       "3   ham  U dun say so early hor... U c already then say...        NaN   \n",
       "4   ham  Nah I don't think he goes to usf, he lives aro...        NaN   \n",
       "\n",
       "  Unnamed: 3 Unnamed: 4  \n",
       "0        NaN        NaN  \n",
       "1        NaN        NaN  \n",
       "2        NaN        NaN  \n",
       "3        NaN        NaN  \n",
       "4        NaN        NaN  "
      ]
     },
     "execution_count": 400,
     "metadata": {},
     "output_type": "execute_result"
    }
   ],
   "source": [
    "df = pd.read_csv('spam.csv', encoding='latin-1')\n",
    "df.head()"
   ]
  },
  {
   "cell_type": "markdown",
   "metadata": {},
   "source": [
    "#### Split the dataset\n",
    "\n",
    "Split the data into 80% training and 20% testing sets"
   ]
  },
  {
   "cell_type": "code",
   "execution_count": 406,
   "metadata": {},
   "outputs": [
    {
     "name": "stdout",
     "output_type": "stream",
     "text": [
      "Train data size: (4457,) (4457,)\n",
      "Test data size:  (1115,) (1115,)\n"
     ]
    }
   ],
   "source": [
    "# Get the features and labels\n",
    "features = df['v2']\n",
    "labels = df['v1'].map({'ham': 0, 'spam': 1})\n",
    "\n",
    "# Split the data into training and testing sets\n",
    "X_train, X_test, y_train, y_test = train_test_split(features, labels, test_size=0.2, random_state=1234)\n",
    "\n",
    "print(\"Train data size:\", X_train.shape, y_train.shape)\n",
    "print(\"Test data size: \", X_test.shape, y_test.shape)"
   ]
  },
  {
   "cell_type": "markdown",
   "metadata": {},
   "source": [
    "#### Distribution\n",
    "\n",
    "Plot the distribution of spam and non spam messages"
   ]
  },
  {
   "cell_type": "code",
   "execution_count": 459,
   "metadata": {},
   "outputs": [
    {
     "name": "stdout",
     "output_type": "stream",
     "text": [
      "\n"
     ]
    },
    {
     "data": {
      "image/png": "[encoded data removed]",
      "text/plain": [
       "<Figure size 640x480 with 1 Axes>"
      ]
     },
     "metadata": {},
     "output_type": "display_data"
    }
   ],
   "source": [
    "# get the number of spam/ham messages in features\n",
    "spamPercent = round(len(df[df['v1'] == 'spam']) / df.shape[0] * 100)\n",
    "realPercent = 100 - spamPercent\n",
    "\n",
    "plot = sb.countplot(x='v1', data=df)\n",
    "plot.set_title('Distribution of Real and Spam messages')\n",
    "plot.set_xlabel('Message Type')\n",
    "plot.set_ylabel('Count')\n",
    "plot.set_xticklabels([f'Real ({realPercent}%)', f'Fake ({spamPercent}%)'])\n",
    "print()"
   ]
  },
  {
   "cell_type": "markdown",
   "metadata": {},
   "source": [
    "It is a very unbalanced dataset. This will be corrected later on."
   ]
  },
  {
   "cell_type": "markdown",
   "metadata": {},
   "source": [
    "#### Dataset Description\n",
    "\n",
    "- The dataset contains 2 main columns: v1, v2\n",
    "  - V1: Label (ham: non spam, spam: spam)\n",
    "  - V2: SMS message\n",
    "- The model should be able to predict whether a given message is spam or not"
   ]
  },
  {
   "cell_type": "markdown",
   "metadata": {},
   "source": [
    "#### Preprocess Data"
   ]
  },
  {
   "cell_type": "code",
   "execution_count": 396,
   "metadata": {},
   "outputs": [],
   "source": [
    "lm = WordNetLemmatizer()\n",
    "def preProcess(msgs):\n",
    "  for msg in msgs:\n",
    "    # Make lowercase\n",
    "    text = str(msg).lower()\n",
    "    # Remove special characters\n",
    "    text = re.sub(r'[^a-zA-Z0-9\\s]', '', text)\n",
    "    # Remove stopwords\n",
    "    # text = ' '.join([word for word in text.split() if word not in stopwords.words('english')])\n",
    "    # Lemmatize words\n",
    "    text = lm.lemmatize(text)\n",
    "\n",
    "    msgs[msg] = text\n",
    "\n",
    "  return msgs"
   ]
  },
  {
   "cell_type": "code",
   "execution_count": 399,
   "metadata": {},
   "outputs": [
    {
     "name": "stdout",
     "output_type": "stream",
     "text": [
      "1230    I want to send something that can sell fast.  ...\n",
      "4224    \\The world suffers a lot... Not because of the...\n",
      "4402                               Just getting back home\n",
      "1251    Please CALL 08712402779 immediately as there i...\n",
      "4187    Mm umma ask vava also to come tell him can pla...\n",
      "Name: v2, dtype: object\n"
     ]
    }
   ],
   "source": [
    "# max_features = 2000\n",
    "\n",
    "# Preprocess the features\n",
    "X_train = preProcess(X_train)\n",
    "X_test = preProcess(X_test)\n",
    "\n",
    "print(X_train.head())"
   ]
  },
  {
   "cell_type": "markdown",
   "metadata": {},
   "source": [
    "#### Text encoding"
   ]
  },
  {
   "cell_type": "code",
   "execution_count": 425,
   "metadata": {},
   "outputs": [],
   "source": [
    "vocab_size = 10000"
   ]
  },
  {
   "cell_type": "markdown",
   "metadata": {},
   "source": [
    "Count Vectorization"
   ]
  },
  {
   "cell_type": "code",
   "execution_count": 510,
   "metadata": {},
   "outputs": [
    {
     "name": "stdout",
     "output_type": "stream",
     "text": [
      "(4457, 10000) (1115, 10000)\n"
     ]
    }
   ],
   "source": [
    "cv = CountVectorizer(max_features=vocab_size, ngram_range=(1, 2), stop_words='english')\n",
    "X_train_cv = cv.fit_transform(X_train).toarray()\n",
    "X_test_cv = cv.transform(X_test).toarray()\n",
    "\n",
    "print(X_train_cv.shape, X_test_cv.shape)\n"
   ]
  },
  {
   "cell_type": "markdown",
   "metadata": {},
   "source": [
    "TF-IDF Vectorization"
   ]
  },
  {
   "cell_type": "code",
   "execution_count": 511,
   "metadata": {},
   "outputs": [
    {
     "name": "stdout",
     "output_type": "stream",
     "text": [
      "(4457, 10000) (1115, 10000)\n"
     ]
    }
   ],
   "source": [
    "tfidf = TfidfVectorizer(max_features=vocab_size, ngram_range=(1, 2), stop_words='english')\n",
    "X_train_tf = tfidf.fit_transform(X_train).toarray()\n",
    "X_test_tf = tfidf.transform(X_test).toarray()\n",
    "\n",
    "print(X_train_tf.shape, X_test_tf.shape)"
   ]
  },
  {
   "cell_type": "markdown",
   "metadata": {},
   "source": [
    "#### Balance Dataset\n",
    "\n",
    "The training dataset is imblanced. \n",
    "\n",
    "Balance it by synthetically generating more spam messages with SMOTE"
   ]
  },
  {
   "cell_type": "code",
   "execution_count": 512,
   "metadata": {},
   "outputs": [],
   "source": [
    "sm = SMOTE(random_state=1234)\n",
    "\n",
    "X_train_cv, y_train_cv = sm.fit_resample(X_train_cv, y_train)\n",
    "X_train_tf, y_train_tf = sm.fit_resample(X_train_tf, y_train)"
   ]
  },
  {
   "cell_type": "code",
   "execution_count": 513,
   "metadata": {},
   "outputs": [
    {
     "name": "stdout",
     "output_type": "stream",
     "text": [
      "Real:Spam = 50:50\n"
     ]
    }
   ],
   "source": [
    "spamPercent = round(len(y_train_cv[y_train_cv == 1]) / y_train_cv.shape[0] * 100)\n",
    "realPercent = 100 - spamPercent\n",
    "\n",
    "print(f'Real:Spam = {realPercent}:{spamPercent}')"
   ]
  },
  {
   "cell_type": "markdown",
   "metadata": {},
   "source": [
    "#### Build Models"
   ]
  },
  {
   "cell_type": "markdown",
   "metadata": {},
   "source": [
    "Fully connected (dense) neural network"
   ]
  },
  {
   "cell_type": "code",
   "execution_count": 600,
   "metadata": {},
   "outputs": [
    {
     "name": "stdout",
     "output_type": "stream",
     "text": [
      "Model: \"sequential_82\"\n",
      "_________________________________________________________________\n",
      " Layer (type)                Output Shape              Param #   \n",
      "=================================================================\n",
      " dense_109 (Dense)           (None, 10)                100010    \n",
      "                                                                 \n",
      " dense_110 (Dense)           (None, 1)                 11        \n",
      "                                                                 \n",
      "=================================================================\n",
      "Total params: 100,021\n",
      "Trainable params: 100,021\n",
      "Non-trainable params: 0\n",
      "_________________________________________________________________\n",
      "None\n"
     ]
    }
   ],
   "source": [
    "fcnn = Sequential()\n",
    "fcnn.add(Dense(10, input_dim=vocab_size, activation='relu'))\n",
    "fcnn.add(Dense(1, activation='sigmoid'))\n",
    "fcnn.compile(loss='binary_crossentropy', optimizer='adam', metrics=['accuracy'])\n",
    "\n",
    "print(fcnn.summary())"
   ]
  },
  {
   "cell_type": "markdown",
   "metadata": {},
   "source": [
    "Recurrent neural network\n",
    "\n",
    "After trying multiple different RNN models, I could not get one that provided good results within a reasonable amount of time.\n",
    "\n",
    "As such, I decided to simply ignore using an RNN model for this assignment."
   ]
  },
  {
   "cell_type": "code",
   "execution_count": null,
   "metadata": {},
   "outputs": [],
   "source": [
    "# RNN\n",
    "# rnn = Sequential()\n",
    "# rnn.add(Embedding(vocab_size, 32, input_length=X_train_cv.shape[1]))  \n",
    "# rnn.add(LSTM(units=32))\n",
    "# rnn.add(Dense(1, activation='sigmoid'))\n",
    "# rnn.compile(loss='binary_crossentropy', optimizer='adam', metrics=['accuracy'])\n",
    "\n",
    "# print(rnn.summary())"
   ]
  },
  {
   "cell_type": "markdown",
   "metadata": {},
   "source": [
    "Convolutional neural network"
   ]
  },
  {
   "cell_type": "code",
   "execution_count": 613,
   "metadata": {},
   "outputs": [
    {
     "name": "stdout",
     "output_type": "stream",
     "text": [
      "Model: \"sequential_89\"\n",
      "_________________________________________________________________\n",
      " Layer (type)                Output Shape              Param #   \n",
      "=================================================================\n",
      " conv1d_113 (Conv1D)         (None, 4999, 32)          160       \n",
      "                                                                 \n",
      " max_pooling1d_59 (MaxPoolin  (None, 2499, 32)         0         \n",
      " g1D)                                                            \n",
      "                                                                 \n",
      " conv1d_114 (Conv1D)         (None, 2498, 16)          1040      \n",
      "                                                                 \n",
      " global_max_pooling1d_53 (Gl  (None, 16)               0         \n",
      " obalMaxPooling1D)                                               \n",
      "                                                                 \n",
      " dense_117 (Dense)           (None, 1)                 17        \n",
      "                                                                 \n",
      "=================================================================\n",
      "Total params: 1,217\n",
      "Trainable params: 1,217\n",
      "Non-trainable params: 0\n",
      "_________________________________________________________________\n",
      "None\n"
     ]
    }
   ],
   "source": [
    "# CNN\n",
    "cnn = Sequential()\n",
    "cnn.add(Conv1D(32, 4, 2, activation='relu', input_shape=(vocab_size, 1)))\n",
    "cnn.add(MaxPooling1D(2))\n",
    "cnn.add(Conv1D(16, 2, 1, activation='relu'))\n",
    "cnn.add(GlobalMaxPooling1D())\n",
    "\n",
    "cnn.add(Dense(1, activation='sigmoid'))\n",
    "cnn.compile(loss='binary_crossentropy', optimizer='adam', metrics=['accuracy'])\n",
    "\n",
    "print(cnn.summary())"
   ]
  },
  {
   "cell_type": "markdown",
   "metadata": {},
   "source": [
    "#### Train Model"
   ]
  },
  {
   "cell_type": "code",
   "execution_count": 21,
   "metadata": {},
   "outputs": [],
   "source": [
    "train = True"
   ]
  },
  {
   "cell_type": "markdown",
   "metadata": {},
   "source": [
    "Train the fully connected model"
   ]
  },
  {
   "cell_type": "code",
   "execution_count": 619,
   "metadata": {},
   "outputs": [
    {
     "name": "stdout",
     "output_type": "stream",
     "text": [
      "Epoch 1/20\n",
      "61/61 - 1s - loss: 0.5984 - accuracy: 0.8199 - 696ms/epoch - 11ms/step\n",
      "Epoch 2/20\n",
      "61/61 - 0s - loss: 0.4329 - accuracy: 0.9746 - 339ms/epoch - 6ms/step\n",
      "Epoch 3/20\n",
      "61/61 - 0s - loss: 0.3383 - accuracy: 0.9768 - 317ms/epoch - 5ms/step\n",
      "Epoch 4/20\n",
      "61/61 - 0s - loss: 0.2766 - accuracy: 0.9730 - 298ms/epoch - 5ms/step\n",
      "Epoch 5/20\n",
      "61/61 - 0s - loss: 0.2321 - accuracy: 0.9713 - 310ms/epoch - 5ms/step\n",
      "Epoch 6/20\n",
      "61/61 - 0s - loss: 0.1986 - accuracy: 0.9724 - 305ms/epoch - 5ms/step\n",
      "Epoch 7/20\n",
      "61/61 - 0s - loss: 0.1729 - accuracy: 0.9710 - 310ms/epoch - 5ms/step\n",
      "Epoch 8/20\n",
      "61/61 - 0s - loss: 0.1526 - accuracy: 0.9727 - 322ms/epoch - 5ms/step\n",
      "Epoch 9/20\n",
      "61/61 - 0s - loss: 0.1365 - accuracy: 0.9736 - 306ms/epoch - 5ms/step\n",
      "Epoch 10/20\n",
      "61/61 - 0s - loss: 0.1233 - accuracy: 0.9746 - 295ms/epoch - 5ms/step\n",
      "Epoch 11/20\n",
      "61/61 - 0s - loss: 0.1123 - accuracy: 0.9757 - 289ms/epoch - 5ms/step\n",
      "Epoch 12/20\n",
      "61/61 - 0s - loss: 0.1031 - accuracy: 0.9767 - 286ms/epoch - 5ms/step\n",
      "Epoch 13/20\n",
      "61/61 - 0s - loss: 0.0953 - accuracy: 0.9775 - 290ms/epoch - 5ms/step\n",
      "Epoch 14/20\n",
      "61/61 - 0s - loss: 0.0885 - accuracy: 0.9796 - 293ms/epoch - 5ms/step\n",
      "Epoch 15/20\n",
      "61/61 - 0s - loss: 0.0827 - accuracy: 0.9806 - 297ms/epoch - 5ms/step\n",
      "Epoch 16/20\n",
      "61/61 - 0s - loss: 0.0776 - accuracy: 0.9820 - 283ms/epoch - 5ms/step\n",
      "Epoch 17/20\n",
      "61/61 - 0s - loss: 0.0731 - accuracy: 0.9826 - 298ms/epoch - 5ms/step\n",
      "Epoch 18/20\n",
      "61/61 - 0s - loss: 0.0692 - accuracy: 0.9844 - 299ms/epoch - 5ms/step\n",
      "Epoch 19/20\n",
      "61/61 - 0s - loss: 0.0657 - accuracy: 0.9851 - 301ms/epoch - 5ms/step\n",
      "Epoch 20/20\n",
      "61/61 - 0s - loss: 0.0625 - accuracy: 0.9862 - 276ms/epoch - 5ms/step\n",
      "INFO:tensorflow:Assets written to: fcnn_cv\\assets\n"
     ]
    },
    {
     "name": "stderr",
     "output_type": "stream",
     "text": [
      "INFO:tensorflow:Assets written to: fcnn_cv\\assets\n"
     ]
    },
    {
     "name": "stdout",
     "output_type": "stream",
     "text": [
      "Epoch 1/20\n",
      "61/61 - 0s - loss: 0.0935 - accuracy: 0.9911 - 382ms/epoch - 6ms/step\n",
      "Epoch 2/20\n",
      "61/61 - 0s - loss: 0.0508 - accuracy: 0.9937 - 168ms/epoch - 3ms/step\n",
      "Epoch 3/20\n",
      "61/61 - 0s - loss: 0.0402 - accuracy: 0.9938 - 159ms/epoch - 3ms/step\n",
      "Epoch 4/20\n",
      "61/61 - 0s - loss: 0.0342 - accuracy: 0.9938 - 160ms/epoch - 3ms/step\n",
      "Epoch 5/20\n",
      "61/61 - 0s - loss: 0.0301 - accuracy: 0.9938 - 189ms/epoch - 3ms/step\n",
      "Epoch 6/20\n",
      "61/61 - 0s - loss: 0.0272 - accuracy: 0.9938 - 167ms/epoch - 3ms/step\n",
      "Epoch 7/20\n",
      "61/61 - 0s - loss: 0.0250 - accuracy: 0.9938 - 172ms/epoch - 3ms/step\n",
      "Epoch 8/20\n",
      "61/61 - 0s - loss: 0.0232 - accuracy: 0.9938 - 171ms/epoch - 3ms/step\n",
      "Epoch 9/20\n",
      "61/61 - 0s - loss: 0.0217 - accuracy: 0.9938 - 160ms/epoch - 3ms/step\n",
      "Epoch 10/20\n",
      "61/61 - 0s - loss: 0.0205 - accuracy: 0.9941 - 160ms/epoch - 3ms/step\n",
      "Epoch 11/20\n",
      "61/61 - 0s - loss: 0.0194 - accuracy: 0.9942 - 161ms/epoch - 3ms/step\n",
      "Epoch 12/20\n",
      "61/61 - 0s - loss: 0.0185 - accuracy: 0.9942 - 160ms/epoch - 3ms/step\n",
      "Epoch 13/20\n",
      "61/61 - 0s - loss: 0.0177 - accuracy: 0.9977 - 160ms/epoch - 3ms/step\n",
      "Epoch 14/20\n",
      "61/61 - 0s - loss: 0.0170 - accuracy: 0.9963 - 161ms/epoch - 3ms/step\n",
      "Epoch 15/20\n",
      "61/61 - 0s - loss: 0.0163 - accuracy: 0.9952 - 163ms/epoch - 3ms/step\n",
      "Epoch 16/20\n",
      "61/61 - 0s - loss: 0.0157 - accuracy: 0.9996 - 159ms/epoch - 3ms/step\n",
      "Epoch 17/20\n",
      "61/61 - 0s - loss: 0.0152 - accuracy: 0.9995 - 167ms/epoch - 3ms/step\n",
      "Epoch 18/20\n",
      "61/61 - 0s - loss: 0.0147 - accuracy: 0.9995 - 169ms/epoch - 3ms/step\n",
      "Epoch 19/20\n",
      "61/61 - 0s - loss: 0.0142 - accuracy: 0.9995 - 164ms/epoch - 3ms/step\n",
      "Epoch 20/20\n",
      "61/61 - 0s - loss: 0.0138 - accuracy: 0.9995 - 156ms/epoch - 3ms/step\n",
      "INFO:tensorflow:Assets written to: fcnn_tf\\assets\n"
     ]
    },
    {
     "name": "stderr",
     "output_type": "stream",
     "text": [
      "INFO:tensorflow:Assets written to: fcnn_tf\\assets\n"
     ]
    }
   ],
   "source": [
    "if train:\n",
    "  fcnn.fit(X_train_cv, y_train_cv, epochs=20, batch_size=128, verbose=2)\n",
    "  fcnn.save('fcnn_cv')\n",
    "\n",
    "  fcnn.fit(X_train_tf, y_train_tf, epochs=20, batch_size=128, verbose=2)\n",
    "  fcnn.save('fcnn_tf')"
   ]
  },
  {
   "cell_type": "markdown",
   "metadata": {},
   "source": [
    "Train the recurrent model"
   ]
  },
  {
   "cell_type": "code",
   "execution_count": null,
   "metadata": {},
   "outputs": [],
   "source": [
    "# if train:\n",
    "#   rnn.fit(X_train_cv, y_train_cv, epochs=10, batch_size=32, verbose=2)\n",
    "#   rnn.save('rnn_cv')\n",
    "  \n",
    "#   rnn.fit(X_train_tf, y_train_tf, epochs=10, batch_size=32, verbose=2)\n",
    "#   rnn.save('rnn_tf')"
   ]
  },
  {
   "cell_type": "markdown",
   "metadata": {},
   "source": [
    "Train the convolutional model"
   ]
  },
  {
   "cell_type": "code",
   "execution_count": 614,
   "metadata": {},
   "outputs": [
    {
     "name": "stdout",
     "output_type": "stream",
     "text": [
      "Epoch 1/20\n",
      "61/61 - 11s - loss: 0.6693 - accuracy: 0.6721 - 11s/epoch - 185ms/step\n",
      "Epoch 2/20\n",
      "61/61 - 11s - loss: 0.6119 - accuracy: 0.8250 - 11s/epoch - 176ms/step\n",
      "Epoch 3/20\n",
      "61/61 - 11s - loss: 0.5159 - accuracy: 0.8650 - 11s/epoch - 176ms/step\n",
      "Epoch 4/20\n",
      "61/61 - 11s - loss: 0.4199 - accuracy: 0.8632 - 11s/epoch - 177ms/step\n",
      "Epoch 5/20\n",
      "61/61 - 11s - loss: 0.3667 - accuracy: 0.8632 - 11s/epoch - 177ms/step\n",
      "Epoch 6/20\n",
      "61/61 - 11s - loss: 0.3443 - accuracy: 0.8658 - 11s/epoch - 177ms/step\n",
      "Epoch 7/20\n",
      "61/61 - 11s - loss: 0.3309 - accuracy: 0.8722 - 11s/epoch - 178ms/step\n",
      "Epoch 8/20\n",
      "61/61 - 11s - loss: 0.3230 - accuracy: 0.8742 - 11s/epoch - 177ms/step\n",
      "Epoch 9/20\n",
      "61/61 - 11s - loss: 0.3163 - accuracy: 0.8780 - 11s/epoch - 177ms/step\n",
      "Epoch 10/20\n",
      "61/61 - 11s - loss: 0.3108 - accuracy: 0.8812 - 11s/epoch - 177ms/step\n",
      "Epoch 11/20\n",
      "61/61 - 11s - loss: 0.3058 - accuracy: 0.8821 - 11s/epoch - 176ms/step\n",
      "Epoch 12/20\n",
      "61/61 - 11s - loss: 0.3009 - accuracy: 0.8855 - 11s/epoch - 177ms/step\n",
      "Epoch 13/20\n",
      "61/61 - 11s - loss: 0.2984 - accuracy: 0.8869 - 11s/epoch - 176ms/step\n",
      "Epoch 14/20\n",
      "61/61 - 11s - loss: 0.2927 - accuracy: 0.8877 - 11s/epoch - 176ms/step\n",
      "Epoch 15/20\n",
      "61/61 - 11s - loss: 0.2905 - accuracy: 0.8878 - 11s/epoch - 176ms/step\n",
      "Epoch 16/20\n",
      "61/61 - 11s - loss: 0.2866 - accuracy: 0.8903 - 11s/epoch - 177ms/step\n",
      "Epoch 17/20\n",
      "61/61 - 11s - loss: 0.2836 - accuracy: 0.8913 - 11s/epoch - 178ms/step\n",
      "Epoch 18/20\n",
      "61/61 - 11s - loss: 0.2802 - accuracy: 0.8930 - 11s/epoch - 177ms/step\n",
      "Epoch 19/20\n",
      "61/61 - 11s - loss: 0.2770 - accuracy: 0.8932 - 11s/epoch - 177ms/step\n",
      "Epoch 20/20\n",
      "61/61 - 11s - loss: 0.2743 - accuracy: 0.8963 - 11s/epoch - 176ms/step\n"
     ]
    },
    {
     "name": "stderr",
     "output_type": "stream",
     "text": [
      "WARNING:absl:Found untraced functions such as _jit_compiled_convolution_op, _jit_compiled_convolution_op while saving (showing 2 of 2). These functions will not be directly callable after loading.\n"
     ]
    },
    {
     "name": "stdout",
     "output_type": "stream",
     "text": [
      "INFO:tensorflow:Assets written to: cnn_tf\\assets\n"
     ]
    },
    {
     "name": "stderr",
     "output_type": "stream",
     "text": [
      "INFO:tensorflow:Assets written to: cnn_tf\\assets\n"
     ]
    },
    {
     "name": "stdout",
     "output_type": "stream",
     "text": [
      "Epoch 1/20\n",
      "61/61 - 11s - loss: 1.2907 - accuracy: 0.6906 - 11s/epoch - 184ms/step\n",
      "Epoch 2/20\n",
      "61/61 - 11s - loss: 0.6043 - accuracy: 0.7478 - 11s/epoch - 180ms/step\n",
      "Epoch 3/20\n",
      "61/61 - 11s - loss: 0.5562 - accuracy: 0.7522 - 11s/epoch - 179ms/step\n",
      "Epoch 4/20\n",
      "61/61 - 11s - loss: 0.5348 - accuracy: 0.7562 - 11s/epoch - 179ms/step\n",
      "Epoch 5/20\n",
      "61/61 - 11s - loss: 0.5201 - accuracy: 0.7675 - 11s/epoch - 179ms/step\n",
      "Epoch 6/20\n",
      "61/61 - 11s - loss: 0.5117 - accuracy: 0.7729 - 11s/epoch - 179ms/step\n",
      "Epoch 7/20\n",
      "61/61 - 11s - loss: 0.5018 - accuracy: 0.7803 - 11s/epoch - 179ms/step\n",
      "Epoch 8/20\n",
      "61/61 - 11s - loss: 0.4957 - accuracy: 0.7850 - 11s/epoch - 180ms/step\n",
      "Epoch 9/20\n",
      "61/61 - 11s - loss: 0.4917 - accuracy: 0.7874 - 11s/epoch - 179ms/step\n",
      "Epoch 10/20\n",
      "61/61 - 11s - loss: 0.4870 - accuracy: 0.7897 - 11s/epoch - 184ms/step\n",
      "Epoch 11/20\n",
      "61/61 - 11s - loss: 0.4826 - accuracy: 0.7892 - 11s/epoch - 182ms/step\n",
      "Epoch 12/20\n",
      "61/61 - 11s - loss: 0.4785 - accuracy: 0.7933 - 11s/epoch - 179ms/step\n",
      "Epoch 13/20\n",
      "61/61 - 11s - loss: 0.4752 - accuracy: 0.7973 - 11s/epoch - 179ms/step\n",
      "Epoch 14/20\n",
      "61/61 - 11s - loss: 0.4730 - accuracy: 0.7989 - 11s/epoch - 179ms/step\n",
      "Epoch 15/20\n",
      "61/61 - 11s - loss: 0.4712 - accuracy: 0.7998 - 11s/epoch - 179ms/step\n",
      "Epoch 16/20\n",
      "61/61 - 11s - loss: 0.4679 - accuracy: 0.8019 - 11s/epoch - 179ms/step\n",
      "Epoch 17/20\n",
      "61/61 - 11s - loss: 0.4645 - accuracy: 0.8002 - 11s/epoch - 178ms/step\n",
      "Epoch 18/20\n",
      "61/61 - 11s - loss: 0.4613 - accuracy: 0.8054 - 11s/epoch - 179ms/step\n",
      "Epoch 19/20\n",
      "61/61 - 11s - loss: 0.4583 - accuracy: 0.8046 - 11s/epoch - 179ms/step\n",
      "Epoch 20/20\n",
      "61/61 - 11s - loss: 0.4560 - accuracy: 0.8074 - 11s/epoch - 179ms/step\n"
     ]
    },
    {
     "name": "stderr",
     "output_type": "stream",
     "text": [
      "WARNING:absl:Found untraced functions such as _jit_compiled_convolution_op, _jit_compiled_convolution_op while saving (showing 2 of 2). These functions will not be directly callable after loading.\n"
     ]
    },
    {
     "name": "stdout",
     "output_type": "stream",
     "text": [
      "INFO:tensorflow:Assets written to: cnn_cv\\assets\n"
     ]
    },
    {
     "name": "stderr",
     "output_type": "stream",
     "text": [
      "INFO:tensorflow:Assets written to: cnn_cv\\assets\n"
     ]
    }
   ],
   "source": [
    "if train:\n",
    "  cnn.fit(X_train_tf, y_train_tf, epochs=20, batch_size=128, verbose=2)\n",
    "  cnn.save('cnn_tf')\n",
    "  \n",
    "  cnn.fit(X_train_cv, y_train_cv, epochs=20, batch_size=128, verbose=2)\n",
    "  cnn.save('cnn_cv')\n",
    "  "
   ]
  },
  {
   "cell_type": "markdown",
   "metadata": {},
   "source": [
    "#### Load Models\n",
    "\n",
    "Load the saved models so that they don't have to be trained again\n",
    "\n",
    "(If models don't exist, need to set 'train' to true and train the models)"
   ]
  },
  {
   "cell_type": "code",
   "execution_count": 620,
   "metadata": {},
   "outputs": [],
   "source": [
    "fcnn_cv = tf.keras.models.load_model('fcnn_cv')\n",
    "fcnn_tf = tf.keras.models.load_model('fcnn_tf')\n",
    "\n",
    "# rnn_cv = tf.keras.models.load_model('rnn_cv')\n",
    "# rnn_tf = tf.keras.models.load_model('rnn_tf')\n",
    "\n",
    "cnn_cv = tf.keras.models.load_model('cnn_cv')\n",
    "cnn_tf = tf.keras.models.load_model('cnn_tf')"
   ]
  },
  {
   "cell_type": "markdown",
   "metadata": {},
   "source": [
    "#### Test Model\n",
    "\n",
    "Run the model on the test set"
   ]
  },
  {
   "cell_type": "code",
   "execution_count": 621,
   "metadata": {},
   "outputs": [
    {
     "name": "stdout",
     "output_type": "stream",
     "text": [
      "FCNN using TF-IDF\n",
      "Accuracy:  98.21 %\n",
      "\n",
      "FCNN using Count Vectorizer\n",
      "Accuracy:  98.03 %\n"
     ]
    }
   ],
   "source": [
    "print(\"FCNN using TF-IDF\")\n",
    "acc = fcnn.evaluate(X_test_tf, y_test, verbose=0)\n",
    "print(\"Accuracy: \", round(acc[1] * 100, 2), \"%\\n\")\n",
    "\n",
    "print(\"FCNN using Count Vectorizer\")\n",
    "acc = fcnn.evaluate(X_test_cv, y_test, verbose=0)\n",
    "print(\"Accuracy: \", round(acc[1] * 100, 2), \"%\")"
   ]
  },
  {
   "cell_type": "code",
   "execution_count": null,
   "metadata": {},
   "outputs": [],
   "source": [
    "# print(\"RNN using TF-IDF\")\n",
    "# acc = rnn.evaluate(X_test_tf, y_test, verbose=0)\n",
    "# print(\"Accuracy: \", round(acc[1] * 100, 2), \"%\\n\")\n",
    "\n",
    "# print(\"RNN using Count Vectorizer\")\n",
    "# acc = rnn.evaluate(X_test_cv, y_test, verbose=0)\n",
    "# print(\"Accuracy: \", round(acc[1] * 100, 2), \"%\")"
   ]
  },
  {
   "cell_type": "code",
   "execution_count": 617,
   "metadata": {},
   "outputs": [
    {
     "name": "stdout",
     "output_type": "stream",
     "text": [
      "CNN using TF-IDF\n",
      "Accuracy:  88.88 %\n",
      "\n",
      "CNN using Count Vectorizer\n",
      "Accuracy:  84.3 %\n"
     ]
    }
   ],
   "source": [
    "print(\"CNN using TF-IDF\")\n",
    "acc = cnn_tf.evaluate(X_test_tf, y_test, verbose=0)\n",
    "print(\"Accuracy: \", round(acc[1] * 100, 2), \"%\\n\")\n",
    "\n",
    "print(\"CNN using Count Vectorizer\")\n",
    "acc = cnn_cv.evaluate(X_test_cv, y_test, verbose=0)\n",
    "print(\"Accuracy: \", round(acc[1] * 100, 2), \"%\")"
   ]
  },
  {
   "cell_type": "markdown",
   "metadata": {},
   "source": [
    "#### Analysis\n",
    "\n",
    "I attempted to classify the dataset using 2 different models and 2 different embedding approaches for each model.\n",
    "\n",
    "The first model is a fully connected neural network which first uses a dense layer on the 10000 input values and condenses it down to 10 values. This is then passed to a dense layer with 1 output value. It works surprisingly well and is very fast to train. When vectorizing with TF-IDF it gets an accuracy of 98.2% on the test set and when vectorizing with count it gets an accuracy of 98.0%. Both results are beyond what I expected to achieve. I attempted to modify the model to get better results but it was already performing very well and any modification I made appeared to make it worse.\n",
    "\n",
    "The second model is a convolutional neural network which first performs a convolutional layer on the 10000 input values with a stride of 2 and then it performs a max pooling layer. It then goes through another convolutional layer and another pooling layer. It then flattens the output and passes it to a dense layer with 1 output value. It works somewhat well but is much slower to train than the fully connected model. When vectorizing with TF-IDF it gets an accuracy of 88.9% on the test set and when vectorizing with count it gets an accuracy of 84.3%. It is slightly worse than the fully connected model but it is still very good. The results are more in line with what I expected to achieve.\n",
    "\n",
    "I tried to implement a third model using a recurrent neural network but I could not get it to work well. I tried multiple different models but none of them performed well and took quite a long time to train.  I decided to simply ignore using an RNN model for this assignment.\n",
    "\n",
    "One important note was that the dataset was very imbalanced. There were many more non spam messages than spam messages. This was corrected by using SMOTE to synthetically generate more spam messages which improved the results of the models. Prior to implementing SMOTE, both networks maintained an accuracy around the same as the original distribution which meant that they were simply predicting non spam for every message. With SMOTE, the distribution was balanced at 50% spam and 50% non spam and the models were able to perform more accurately. (actually the CNN performs worse than simply guessing non spam every time lol)\n",
    "\n",
    "Overall, the fully connected model performed the best and is the one I would recommend using for this dataset. It is quick to train and provides very good results. When comparing the embedding approaches, TF-IDF performed better than count vectorization. This is likely because TF-IDF takes into account the frequency of words in the entire dataset whereas count vectorization only takes into account the frequency of words in the current message. This means that TF-IDF is able to better identify spam messages that use words that are not very common in the dataset."
   ]
  },
  {
   "cell_type": "markdown",
   "metadata": {},
   "source": []
  }
 ],
 "metadata": {
  "kernelspec": {
   "display_name": "Python 3.10.8 64-bit (microsoft store)",
   "language": "python",
   "name": "python3"
  },
  "language_info": {
   "codemirror_mode": {
    "name": "ipython",
    "version": 3
   },
   "file_extension": ".py",
   "mimetype": "text/x-python",
   "name": "python",
   "nbconvert_exporter": "python",
   "pygments_lexer": "ipython3",
   "version": "3.10.8"
  },
  "orig_nbformat": 4,
  "vscode": {
   "interpreter": {
    "hash": "bbdc6700f60de612a9776dd7a4bd392f8898b0d00245e53755bddb2281dd5e23"
   }
  }
 },
 "nbformat": 4,
 "nbformat_minor": 2
}
